{
 "cells": [
  {
   "cell_type": "markdown",
   "metadata": {},
   "source": [
    "MNIST Hand-written Digit Recognition\n",
    "\n",
    "(a) Code a function that displays at least one image per each digit."
   ]
  },
  {
   "cell_type": "code",
   "execution_count": 274,
   "metadata": {},
   "outputs": [],
   "source": [
    "import pandas as pd\n",
    "import matplotlib.pyplot as plt\n",
    "import numpy as np\n",
    "traindata = pd.read_csv(\"train.csv\")"
   ]
  },
  {
   "cell_type": "code",
   "execution_count": 275,
   "metadata": {},
   "outputs": [],
   "source": [
    "data = pd.DataFrame(data=traindata)"
   ]
  },
  {
   "cell_type": "code",
   "execution_count": 276,
   "metadata": {},
   "outputs": [],
   "source": [
    "target = data.loc[:,'label']"
   ]
  },
  {
   "cell_type": "code",
   "execution_count": 277,
   "metadata": {},
   "outputs": [
    {
     "data": {
      "text/plain": [
       "<Figure size 432x288 with 0 Axes>"
      ]
     },
     "metadata": {},
     "output_type": "display_data"
    },
    {
     "data": {
      "image/png": "[encoded data removed]",
      "text/plain": [
       "<Figure size 360x360 with 10 Axes>"
      ]
     },
     "metadata": {
      "needs_background": "light"
     },
     "output_type": "display_data"
    }
   ],
   "source": [
    "images_to_plot = 10\n",
    "indices = target.drop_duplicates()\n",
    "\n",
    "sample_images = data.drop_duplicates('label').drop(\"label\", axis=1)\n",
    "sample_labels = target.drop_duplicates()\n",
    "\n",
    "plt.clf()\n",
    "plt.style.use('seaborn-muted')\n",
    "\n",
    "fig, axes = plt.subplots(5,2, \n",
    "                         figsize=(5,5),\n",
    "                         sharex=True, sharey=True)\n",
    "\n",
    "for i in range(images_to_plot):\n",
    "    \n",
    "    # axes (subplot) objects are stored in 2d array, accessed with axes[row,col]\n",
    "    subplot_row = i//2 \n",
    "    subplot_col = i%2\n",
    "    ax = axes[subplot_row, subplot_col]\n",
    "\n",
    "    # plot image on subplot\n",
    "    plottable_image = np.reshape(sample_images.iloc[i,:].values, (28,28))\n",
    "    ax.imshow(plottable_image, cmap='gray_r')\n",
    "    \n",
    "    ax.set_title('Digit Label: {}'.format(sample_labels.iloc[i]))\n",
    "    ax.set_xbound([0,28])\n",
    "\n",
    "plt.tight_layout()\n",
    "plt.show()"
   ]
  },
  {
   "cell_type": "markdown",
   "metadata": {},
   "source": [
    "(b) Measure the distribution over the labels in the training data."
   ]
  },
  {
   "cell_type": "code",
   "execution_count": 279,
   "metadata": {},
   "outputs": [
    {
     "data": {
      "text/plain": [
       "<matplotlib.axes._subplots.AxesSubplot at 0x214495cd248>"
      ]
     },
     "execution_count": 279,
     "metadata": {},
     "output_type": "execute_result"
    },
    {
     "data": {
      "image/png": "[encoded data removed]",
      "text/plain": [
       "<Figure size 432x288 with 1 Axes>"
      ]
     },
     "metadata": {
      "needs_background": "light"
     },
     "output_type": "display_data"
    }
   ],
   "source": [
    "distribution = target.value_counts(normalize=True)\n",
    "import seaborn\n",
    "seaborn.barplot(x=distribution.index, y=distribution)"
   ]
  },
  {
   "cell_type": "markdown",
   "metadata": {},
   "source": [
    "We observe that the distribution of digits in the training data is almost uniform so it is fit for modelling. Digit 1 has slightly more rows in the data compared to digit 5."
   ]
  },
  {
   "cell_type": "markdown",
   "metadata": {},
   "source": [
    "(d) Implement a neural-net classifier with varying the number of hidden layers and neurons there."
   ]
  },
  {
   "cell_type": "code",
   "execution_count": 5,
   "metadata": {},
   "outputs": [],
   "source": [
    "import numpy as np\n",
    "import pandas as pd\n",
    "import matplotlib.pyplot as plt\n",
    "\n",
    "# train test split from sklearn\n",
    "from sklearn.model_selection import train_test_split\n",
    "\n",
    "# Import Torch \n",
    "import torch\n",
    "import torch.nn as nn\n",
    "from torchvision import transforms, models\n",
    "\n",
    "from torch.autograd import Variable\n",
    "from torch import nn, optim\n",
    "import torch.nn.functional as F\n",
    "\n",
    "\n",
    "test = pd.read_csv(\"test.csv\")\n",
    "train = pd.read_csv(\"train.csv\")\n",
    "sample_sub = pd.read_csv(\"sample_submission.csv\")"
   ]
  },
  {
   "cell_type": "code",
   "execution_count": 6,
   "metadata": {},
   "outputs": [],
   "source": [
    "# Seperate the features and labels and normalize them on scale of 0-1\n",
    "targets_np = train.label.values\n",
    "features_np = train.loc[:, train.columns != 'label'].values/255\n",
    "\n",
    "# Split into training and test set\n",
    "features_train, features_test, target_train, target_test = train_test_split(features_np, targets_np, test_size=0.2, random_state=42)"
   ]
  },
  {
   "cell_type": "code",
   "execution_count": 7,
   "metadata": {},
   "outputs": [],
   "source": [
    "# create feature and targets tensor for train set\n",
    "featuresTrain = torch.from_numpy(features_train)\n",
    "targetsTrain = torch.from_numpy(target_train).type(torch.LongTensor)\n",
    "\n",
    "# create feature and targets tensor for test set.\n",
    "featuresTest = torch.from_numpy(features_test)\n",
    "targetsTest = torch.from_numpy(target_test).type(torch.LongTensor)"
   ]
  },
  {
   "cell_type": "code",
   "execution_count": 8,
   "metadata": {},
   "outputs": [],
   "source": [
    "# Set batch size\n",
    "batch_size = 256\n",
    "\n",
    "# Pytorch train and test sets\n",
    "train = torch.utils.data.TensorDataset(featuresTrain,targetsTrain)\n",
    "test = torch.utils.data.TensorDataset(featuresTest,targetsTest)\n",
    "    \n",
    "# data loader\n",
    "train_loader = torch.utils.data.DataLoader(train, batch_size = batch_size, shuffle = True)\n",
    "test_loader = torch.utils.data.DataLoader(test, batch_size = batch_size, shuffle = True)"
   ]
  },
  {
   "cell_type": "code",
   "execution_count": 9,
   "metadata": {},
   "outputs": [
    {
     "name": "stdout",
     "output_type": "stream",
     "text": [
      "torch.Size([33600, 784])\n",
      "torch.Size([8400, 784])\n"
     ]
    }
   ],
   "source": [
    "#Train-Test data distribution\n",
    "print(featuresTrain.shape)\n",
    "print(featuresTest.shape)"
   ]
  },
  {
   "cell_type": "code",
   "execution_count": 10,
   "metadata": {},
   "outputs": [],
   "source": [
    "class Classifier1(nn.Module):\n",
    "    def __init__(self):\n",
    "        super().__init__()\n",
    "        # 5 Hidden Layer Network\n",
    "        self.fc1 = nn.Linear(28*28, 512)\n",
    "        self.fc2 = nn.Linear(512, 256)\n",
    "        self.fc3 = nn.Linear(256, 128)\n",
    "        self.fc4 = nn.Linear(128, 64)\n",
    "        self.fc5 = nn.Linear(64, 10)\n",
    "        \n",
    "        # Dropout module with 0.2 probbability\n",
    "        self.dropout = nn.Dropout(p=0.2)\n",
    "        # Add softmax on output layer\n",
    "        self.log_softmax = F.log_softmax\n",
    "        \n",
    "    def forward(self, x):\n",
    "        x = self.dropout(F.relu(self.fc1(x)))\n",
    "        x = self.dropout(F.relu(self.fc2(x)))\n",
    "        x = self.dropout(F.relu(self.fc3(x)))\n",
    "        x = self.dropout(F.relu(self.fc4(x)))\n",
    "        \n",
    "        x = self.log_softmax(self.fc5(x), dim=1)\n",
    "        \n",
    "        return x"
   ]
  },
  {
   "cell_type": "code",
   "execution_count": 11,
   "metadata": {},
   "outputs": [],
   "source": [
    "class Classifier2(nn.Module):\n",
    "    def __init__(self):\n",
    "        super().__init__()\n",
    "        # 5 Hidden Layer Network\n",
    "        self.fc1 = nn.Linear(28*28, 512)\n",
    "        self.fc2 = nn.Linear(512, 256)\n",
    "        self.fc3 = nn.Linear(256, 64)\n",
    "        self.fc4 = nn.Linear(64, 10)\n",
    "        \n",
    "        # Dropout module with 0.2 probbability\n",
    "        self.dropout = nn.Dropout(p=0.2)\n",
    "        # Add softmax on output layer\n",
    "        self.log_softmax = F.log_softmax\n",
    "        \n",
    "    def forward(self, x):\n",
    "        x = self.dropout(F.relu(self.fc1(x)))\n",
    "        x = self.dropout(F.relu(self.fc2(x)))\n",
    "        x = self.dropout(F.relu(self.fc3(x)))\n",
    "        \n",
    "        x = self.log_softmax(self.fc4(x), dim=1)\n",
    "        \n",
    "        return x"
   ]
  },
  {
   "cell_type": "code",
   "execution_count": 12,
   "metadata": {},
   "outputs": [],
   "source": [
    "class Classifier3(nn.Module):\n",
    "    def __init__(self):\n",
    "        super().__init__()\n",
    "        # 5 Hidden Layer Network\n",
    "        self.fc1 = nn.Linear(28*28, 512)\n",
    "        self.fc2 = nn.Linear(512, 64)\n",
    "        self.fc3 = nn.Linear(64, 10)\n",
    "        \n",
    "        # Dropout module with 0.2 probbability\n",
    "        self.dropout = nn.Dropout(p=0.2)\n",
    "        # Add softmax on output layer\n",
    "        self.log_softmax = F.log_softmax\n",
    "        \n",
    "    def forward(self, x):\n",
    "        x = self.dropout(F.relu(self.fc1(x)))\n",
    "        x = self.dropout(F.relu(self.fc2(x)))\n",
    "        \n",
    "        x = self.log_softmax(self.fc3(x), dim=1)\n",
    "        \n",
    "        return x"
   ]
  },
  {
   "cell_type": "code",
   "execution_count": 12,
   "metadata": {},
   "outputs": [
    {
     "name": "stdout",
     "output_type": "stream",
     "text": [
      "Epoch: 1/25..  Training Loss: 0.438..  Test Loss: 0.432..  Test Accuracy: 0.870\n",
      "Epoch: 1/25..  Training Loss: 0.596..  Test Loss: 0.292..  Test Accuracy: 0.911\n",
      "Epoch: 2/25..  Training Loss: 0.035..  Test Loss: 0.202..  Test Accuracy: 0.941\n",
      "Epoch: 2/25..  Training Loss: 0.114..  Test Loss: 0.189..  Test Accuracy: 0.942\n",
      "Epoch: 2/25..  Training Loss: 0.186..  Test Loss: 0.149..  Test Accuracy: 0.954\n",
      "Epoch: 3/25..  Training Loss: 0.043..  Test Loss: 0.147..  Test Accuracy: 0.957\n",
      "Epoch: 3/25..  Training Loss: 0.099..  Test Loss: 0.133..  Test Accuracy: 0.958\n",
      "Epoch: 4/25..  Training Loss: 0.006..  Test Loss: 0.136..  Test Accuracy: 0.959\n",
      "Epoch: 4/25..  Training Loss: 0.048..  Test Loss: 0.114..  Test Accuracy: 0.966\n",
      "Epoch: 4/25..  Training Loss: 0.092..  Test Loss: 0.105..  Test Accuracy: 0.968\n",
      "Epoch: 5/25..  Training Loss: 0.013..  Test Loss: 0.111..  Test Accuracy: 0.969\n",
      "Epoch: 5/25..  Training Loss: 0.044..  Test Loss: 0.126..  Test Accuracy: 0.961\n",
      "Epoch: 5/25..  Training Loss: 0.080..  Test Loss: 0.106..  Test Accuracy: 0.969\n",
      "Epoch: 6/25..  Training Loss: 0.023..  Test Loss: 0.100..  Test Accuracy: 0.971\n",
      "Epoch: 6/25..  Training Loss: 0.050..  Test Loss: 0.100..  Test Accuracy: 0.972\n",
      "Epoch: 7/25..  Training Loss: 0.004..  Test Loss: 0.113..  Test Accuracy: 0.968\n",
      "Epoch: 7/25..  Training Loss: 0.032..  Test Loss: 0.091..  Test Accuracy: 0.974\n",
      "Epoch: 7/25..  Training Loss: 0.056..  Test Loss: 0.092..  Test Accuracy: 0.974\n",
      "Epoch: 8/25..  Training Loss: 0.011..  Test Loss: 0.096..  Test Accuracy: 0.974\n",
      "Epoch: 8/25..  Training Loss: 0.031..  Test Loss: 0.100..  Test Accuracy: 0.972\n",
      "Epoch: 8/25..  Training Loss: 0.053..  Test Loss: 0.109..  Test Accuracy: 0.971\n",
      "Epoch: 9/25..  Training Loss: 0.018..  Test Loss: 0.110..  Test Accuracy: 0.971\n",
      "Epoch: 9/25..  Training Loss: 0.037..  Test Loss: 0.103..  Test Accuracy: 0.973\n",
      "Epoch: 10/25..  Training Loss: 0.004..  Test Loss: 0.094..  Test Accuracy: 0.975\n",
      "Epoch: 10/25..  Training Loss: 0.020..  Test Loss: 0.094..  Test Accuracy: 0.974\n",
      "Epoch: 10/25..  Training Loss: 0.039..  Test Loss: 0.097..  Test Accuracy: 0.975\n",
      "Epoch: 11/25..  Training Loss: 0.009..  Test Loss: 0.094..  Test Accuracy: 0.975\n",
      "Epoch: 11/25..  Training Loss: 0.023..  Test Loss: 0.115..  Test Accuracy: 0.973\n",
      "Epoch: 11/25..  Training Loss: 0.040..  Test Loss: 0.095..  Test Accuracy: 0.976\n",
      "Epoch: 12/25..  Training Loss: 0.013..  Test Loss: 0.105..  Test Accuracy: 0.976\n",
      "Epoch: 12/25..  Training Loss: 0.027..  Test Loss: 0.103..  Test Accuracy: 0.976\n",
      "Epoch: 13/25..  Training Loss: 0.004..  Test Loss: 0.098..  Test Accuracy: 0.977\n",
      "Epoch: 13/25..  Training Loss: 0.015..  Test Loss: 0.101..  Test Accuracy: 0.976\n",
      "Epoch: 13/25..  Training Loss: 0.030..  Test Loss: 0.104..  Test Accuracy: 0.972\n",
      "Epoch: 14/25..  Training Loss: 0.011..  Test Loss: 0.095..  Test Accuracy: 0.975\n",
      "Epoch: 14/25..  Training Loss: 0.025..  Test Loss: 0.095..  Test Accuracy: 0.976\n",
      "Epoch: 15/25..  Training Loss: 0.001..  Test Loss: 0.103..  Test Accuracy: 0.976\n",
      "Epoch: 15/25..  Training Loss: 0.011..  Test Loss: 0.109..  Test Accuracy: 0.974\n",
      "Epoch: 15/25..  Training Loss: 0.024..  Test Loss: 0.108..  Test Accuracy: 0.976\n",
      "Epoch: 16/25..  Training Loss: 0.004..  Test Loss: 0.101..  Test Accuracy: 0.977\n",
      "Epoch: 16/25..  Training Loss: 0.013..  Test Loss: 0.112..  Test Accuracy: 0.975\n",
      "Epoch: 16/25..  Training Loss: 0.024..  Test Loss: 0.099..  Test Accuracy: 0.978\n",
      "Epoch: 17/25..  Training Loss: 0.006..  Test Loss: 0.112..  Test Accuracy: 0.977\n",
      "Epoch: 17/25..  Training Loss: 0.016..  Test Loss: 0.114..  Test Accuracy: 0.976\n",
      "Epoch: 18/25..  Training Loss: 0.003..  Test Loss: 0.121..  Test Accuracy: 0.971\n",
      "Epoch: 18/25..  Training Loss: 0.017..  Test Loss: 0.098..  Test Accuracy: 0.976\n",
      "Epoch: 18/25..  Training Loss: 0.026..  Test Loss: 0.101..  Test Accuracy: 0.977\n",
      "Epoch: 19/25..  Training Loss: 0.005..  Test Loss: 0.103..  Test Accuracy: 0.976\n",
      "Epoch: 19/25..  Training Loss: 0.012..  Test Loss: 0.110..  Test Accuracy: 0.977\n",
      "Epoch: 19/25..  Training Loss: 0.022..  Test Loss: 0.105..  Test Accuracy: 0.976\n",
      "Epoch: 20/25..  Training Loss: 0.007..  Test Loss: 0.105..  Test Accuracy: 0.977\n",
      "Epoch: 20/25..  Training Loss: 0.013..  Test Loss: 0.112..  Test Accuracy: 0.977\n",
      "Epoch: 21/25..  Training Loss: 0.001..  Test Loss: 0.101..  Test Accuracy: 0.976\n",
      "Epoch: 21/25..  Training Loss: 0.008..  Test Loss: 0.111..  Test Accuracy: 0.977\n",
      "Epoch: 21/25..  Training Loss: 0.016..  Test Loss: 0.103..  Test Accuracy: 0.979\n",
      "Epoch: 22/25..  Training Loss: 0.004..  Test Loss: 0.114..  Test Accuracy: 0.978\n",
      "Epoch: 22/25..  Training Loss: 0.013..  Test Loss: 0.113..  Test Accuracy: 0.977\n",
      "Epoch: 22/25..  Training Loss: 0.019..  Test Loss: 0.106..  Test Accuracy: 0.980\n",
      "Epoch: 23/25..  Training Loss: 0.008..  Test Loss: 0.117..  Test Accuracy: 0.976\n",
      "Epoch: 23/25..  Training Loss: 0.014..  Test Loss: 0.114..  Test Accuracy: 0.977\n",
      "Epoch: 24/25..  Training Loss: 0.003..  Test Loss: 0.112..  Test Accuracy: 0.977\n",
      "Epoch: 24/25..  Training Loss: 0.009..  Test Loss: 0.101..  Test Accuracy: 0.979\n",
      "Epoch: 24/25..  Training Loss: 0.016..  Test Loss: 0.111..  Test Accuracy: 0.979\n",
      "Epoch: 25/25..  Training Loss: 0.004..  Test Loss: 0.113..  Test Accuracy: 0.978\n",
      "Epoch: 25/25..  Training Loss: 0.009..  Test Loss: 0.130..  Test Accuracy: 0.976\n",
      "Epoch: 25/25..  Training Loss: 0.017..  Test Loss: 0.108..  Test Accuracy: 0.975\n"
     ]
    }
   ],
   "source": [
    "# Instantiate model 1\n",
    "model = Classifier1()\n",
    "# Define our loss function\n",
    "criterion = nn.NLLLoss()\n",
    "# Define the optimier\n",
    "optimizer = optim.Adam(model.parameters(), lr=0.0015)\n",
    "\n",
    "epochs = 25\n",
    "steps = 0\n",
    "print_every = 50\n",
    "train_losses, test_losses = [], []\n",
    "\n",
    "for e in range(epochs):\n",
    "    running_loss = 0\n",
    "    for images, labels in train_loader:\n",
    "        steps += 1\n",
    "        # Prevent accumulation of gradients\n",
    "        optimizer.zero_grad()\n",
    "        # Make predictions\n",
    "        log_ps = model(images.float())\n",
    "        loss = criterion(log_ps, labels)\n",
    "        #backprop\n",
    "        loss.backward()\n",
    "        optimizer.step()\n",
    "        \n",
    "        running_loss += loss.item()\n",
    "        if steps % print_every == 0:\n",
    "            test_loss = 0\n",
    "            accuracy = 0\n",
    "\n",
    "            # Turn off gradients for validation\n",
    "            with torch.no_grad():\n",
    "                model.eval()\n",
    "                for images, labels in test_loader:\n",
    "                    log_ps = model(images.float())\n",
    "                    test_loss += criterion(log_ps, labels)\n",
    "\n",
    "                    ps = torch.exp(log_ps)\n",
    "                    # Get our top predictions\n",
    "                    top_p, top_class = ps.topk(1, dim=1)\n",
    "                    equals = top_class == labels.view(*top_class.shape)\n",
    "                    accuracy += torch.mean(equals.type(torch.FloatTensor))\n",
    "\n",
    "            model.train()\n",
    "\n",
    "            train_losses.append(running_loss/len(train_loader))\n",
    "            test_losses.append(test_loss/len(test_loader))\n",
    "\n",
    "            print(\"Epoch: {}/{}.. \".format(e+1, epochs),\n",
    "                  \"Training Loss: {:.3f}.. \".format(train_losses[-1]),\n",
    "                  \"Test Loss: {:.3f}.. \".format(test_losses[-1]),\n",
    "                  \"Test Accuracy: {:.3f}\".format(accuracy/len(test_loader)))"
   ]
  },
  {
   "cell_type": "code",
   "execution_count": null,
   "metadata": {},
   "outputs": [
    {
     "name": "stdout",
     "output_type": "stream",
     "text": [
      "Epoch: 1/25..  Training Loss: 0.373..  Test Loss: 0.358..  Test Accuracy: 0.888\n",
      "Epoch: 1/25..  Training Loss: 0.508..  Test Loss: 0.238..  Test Accuracy: 0.926\n",
      "Epoch: 2/25..  Training Loss: 0.029..  Test Loss: 0.192..  Test Accuracy: 0.942\n",
      "Epoch: 2/25..  Training Loss: 0.106..  Test Loss: 0.167..  Test Accuracy: 0.949\n",
      "Epoch: 2/25..  Training Loss: 0.169..  Test Loss: 0.146..  Test Accuracy: 0.955\n",
      "Epoch: 3/25..  Training Loss: 0.037..  Test Loss: 0.133..  Test Accuracy: 0.959\n",
      "Epoch: 3/25..  Training Loss: 0.088..  Test Loss: 0.136..  Test Accuracy: 0.960\n",
      "Epoch: 4/25..  Training Loss: 0.003..  Test Loss: 0.123..  Test Accuracy: 0.964\n",
      "Epoch: 4/25..  Training Loss: 0.039..  Test Loss: 0.108..  Test Accuracy: 0.967\n",
      "Epoch: 4/25..  Training Loss: 0.076..  Test Loss: 0.103..  Test Accuracy: 0.968\n",
      "Epoch: 5/25..  Training Loss: 0.014..  Test Loss: 0.096..  Test Accuracy: 0.970\n",
      "Epoch: 5/25..  Training Loss: 0.042..  Test Loss: 0.099..  Test Accuracy: 0.969\n",
      "Epoch: 5/25..  Training Loss: 0.072..  Test Loss: 0.099..  Test Accuracy: 0.971\n",
      "Epoch: 6/25..  Training Loss: 0.021..  Test Loss: 0.097..  Test Accuracy: 0.972\n",
      "Epoch: 6/25..  Training Loss: 0.049..  Test Loss: 0.088..  Test Accuracy: 0.973\n",
      "Epoch: 7/25..  Training Loss: 0.004..  Test Loss: 0.096..  Test Accuracy: 0.972\n",
      "Epoch: 7/25..  Training Loss: 0.023..  Test Loss: 0.087..  Test Accuracy: 0.974\n",
      "Epoch: 7/25..  Training Loss: 0.046..  Test Loss: 0.084..  Test Accuracy: 0.976\n",
      "Epoch: 8/25..  Training Loss: 0.008..  Test Loss: 0.087..  Test Accuracy: 0.976\n",
      "Epoch: 8/25..  Training Loss: 0.027..  Test Loss: 0.097..  Test Accuracy: 0.972\n",
      "Epoch: 8/25..  Training Loss: 0.047..  Test Loss: 0.081..  Test Accuracy: 0.975\n",
      "Epoch: 9/25..  Training Loss: 0.014..  Test Loss: 0.090..  Test Accuracy: 0.974\n",
      "Epoch: 9/25..  Training Loss: 0.028..  Test Loss: 0.084..  Test Accuracy: 0.977\n",
      "Epoch: 10/25..  Training Loss: 0.003..  Test Loss: 0.090..  Test Accuracy: 0.974\n",
      "Epoch: 10/25..  Training Loss: 0.016..  Test Loss: 0.086..  Test Accuracy: 0.976\n",
      "Epoch: 10/25..  Training Loss: 0.029..  Test Loss: 0.081..  Test Accuracy: 0.976\n",
      "Epoch: 11/25..  Training Loss: 0.007..  Test Loss: 0.092..  Test Accuracy: 0.974\n",
      "Epoch: 11/25..  Training Loss: 0.023..  Test Loss: 0.087..  Test Accuracy: 0.976\n",
      "Epoch: 11/25..  Training Loss: 0.034..  Test Loss: 0.092..  Test Accuracy: 0.974\n",
      "Epoch: 12/25..  Training Loss: 0.012..  Test Loss: 0.094..  Test Accuracy: 0.975\n",
      "Epoch: 12/25..  Training Loss: 0.026..  Test Loss: 0.114..  Test Accuracy: 0.971\n",
      "Epoch: 13/25..  Training Loss: 0.004..  Test Loss: 0.088..  Test Accuracy: 0.975\n",
      "Epoch: 13/25..  Training Loss: 0.015..  Test Loss: 0.086..  Test Accuracy: 0.978\n",
      "Epoch: 13/25..  Training Loss: 0.026..  Test Loss: 0.108..  Test Accuracy: 0.974\n",
      "Epoch: 14/25..  Training Loss: 0.007..  Test Loss: 0.090..  Test Accuracy: 0.977\n",
      "Epoch: 14/25..  Training Loss: 0.017..  Test Loss: 0.084..  Test Accuracy: 0.978\n",
      "Epoch: 15/25..  Training Loss: 0.000..  Test Loss: 0.084..  Test Accuracy: 0.978\n",
      "Epoch: 15/25..  Training Loss: 0.008..  Test Loss: 0.091..  Test Accuracy: 0.977\n",
      "Epoch: 15/25..  Training Loss: 0.017..  Test Loss: 0.094..  Test Accuracy: 0.978\n",
      "Epoch: 16/25..  Training Loss: 0.003..  Test Loss: 0.097..  Test Accuracy: 0.977\n",
      "Epoch: 16/25..  Training Loss: 0.012..  Test Loss: 0.092..  Test Accuracy: 0.977\n"
     ]
    }
   ],
   "source": [
    "# Instantiate model 2\n",
    "model = Classifier2()\n",
    "# Define our loss function\n",
    "criterion = nn.NLLLoss()\n",
    "# Define the optimier\n",
    "optimizer = optim.Adam(model.parameters(), lr=0.0015)\n",
    "\n",
    "epochs = 25\n",
    "steps = 0\n",
    "print_every = 50\n",
    "train_losses, test_losses = [], []\n",
    "\n",
    "for e in range(epochs):\n",
    "    running_loss = 0\n",
    "    for images, labels in train_loader:\n",
    "        steps += 1\n",
    "        # Prevent accumulation of gradients\n",
    "        optimizer.zero_grad()\n",
    "        # Make predictions\n",
    "        log_ps = model(images.float())\n",
    "        loss = criterion(log_ps, labels)\n",
    "        #backprop\n",
    "        loss.backward()\n",
    "        optimizer.step()\n",
    "        \n",
    "        running_loss += loss.item()\n",
    "        if steps % print_every == 0:\n",
    "            test_loss = 0\n",
    "            accuracy = 0\n",
    "\n",
    "            # Turn off gradients for validation\n",
    "            with torch.no_grad():\n",
    "                model.eval()\n",
    "                for images, labels in test_loader:\n",
    "                    log_ps = model(images.float())\n",
    "                    test_loss += criterion(log_ps, labels)\n",
    "\n",
    "                    ps = torch.exp(log_ps)\n",
    "                    # Get our top predictions\n",
    "                    top_p, top_class = ps.topk(1, dim=1)\n",
    "                    equals = top_class == labels.view(*top_class.shape)\n",
    "                    accuracy += torch.mean(equals.type(torch.FloatTensor))\n",
    "\n",
    "            model.train()\n",
    "\n",
    "            train_losses.append(running_loss/len(train_loader))\n",
    "            test_losses.append(test_loss/len(test_loader))\n",
    "\n",
    "            print(\"Epoch: {}/{}.. \".format(e+1, epochs),\n",
    "                  \"Training Loss: {:.3f}.. \".format(train_losses[-1]),\n",
    "                  \"Test Loss: {:.3f}.. \".format(test_losses[-1]),\n",
    "                  \"Test Accuracy: {:.3f}\".format(accuracy/len(test_loader)))"
   ]
  },
  {
   "cell_type": "code",
   "execution_count": 41,
   "metadata": {},
   "outputs": [
    {
     "name": "stdout",
     "output_type": "stream",
     "text": [
      "Epoch: 1/25..  Training Loss: 0.327..  Test Loss: 0.355..  Test Accuracy: 0.896\n",
      "Epoch: 1/25..  Training Loss: 0.460..  Test Loss: 0.253..  Test Accuracy: 0.925\n",
      "Epoch: 2/25..  Training Loss: 0.033..  Test Loss: 0.213..  Test Accuracy: 0.937\n",
      "Epoch: 2/25..  Training Loss: 0.118..  Test Loss: 0.189..  Test Accuracy: 0.945\n",
      "Epoch: 2/25..  Training Loss: 0.187..  Test Loss: 0.156..  Test Accuracy: 0.954\n",
      "Epoch: 3/25..  Training Loss: 0.044..  Test Loss: 0.144..  Test Accuracy: 0.958\n",
      "Epoch: 3/25..  Training Loss: 0.101..  Test Loss: 0.134..  Test Accuracy: 0.960\n",
      "Epoch: 4/25..  Training Loss: 0.004..  Test Loss: 0.123..  Test Accuracy: 0.963\n",
      "Epoch: 4/25..  Training Loss: 0.045..  Test Loss: 0.118..  Test Accuracy: 0.964\n",
      "Epoch: 4/25..  Training Loss: 0.088..  Test Loss: 0.114..  Test Accuracy: 0.965\n",
      "Epoch: 5/25..  Training Loss: 0.016..  Test Loss: 0.107..  Test Accuracy: 0.968\n",
      "Epoch: 5/25..  Training Loss: 0.051..  Test Loss: 0.098..  Test Accuracy: 0.969\n",
      "Epoch: 5/25..  Training Loss: 0.085..  Test Loss: 0.093..  Test Accuracy: 0.971\n",
      "Epoch: 6/25..  Training Loss: 0.019..  Test Loss: 0.099..  Test Accuracy: 0.970\n",
      "Epoch: 6/25..  Training Loss: 0.049..  Test Loss: 0.090..  Test Accuracy: 0.973\n",
      "Epoch: 7/25..  Training Loss: 0.004..  Test Loss: 0.086..  Test Accuracy: 0.973\n",
      "Epoch: 7/25..  Training Loss: 0.026..  Test Loss: 0.089..  Test Accuracy: 0.972\n",
      "Epoch: 7/25..  Training Loss: 0.051..  Test Loss: 0.088..  Test Accuracy: 0.973\n",
      "Epoch: 8/25..  Training Loss: 0.010..  Test Loss: 0.084..  Test Accuracy: 0.974\n",
      "Epoch: 8/25..  Training Loss: 0.029..  Test Loss: 0.081..  Test Accuracy: 0.975\n",
      "Epoch: 8/25..  Training Loss: 0.049..  Test Loss: 0.081..  Test Accuracy: 0.976\n",
      "Epoch: 9/25..  Training Loss: 0.015..  Test Loss: 0.082..  Test Accuracy: 0.976\n",
      "Epoch: 9/25..  Training Loss: 0.033..  Test Loss: 0.078..  Test Accuracy: 0.977\n",
      "Epoch: 10/25..  Training Loss: 0.003..  Test Loss: 0.082..  Test Accuracy: 0.976\n",
      "Epoch: 10/25..  Training Loss: 0.015..  Test Loss: 0.078..  Test Accuracy: 0.977\n",
      "Epoch: 10/25..  Training Loss: 0.031..  Test Loss: 0.084..  Test Accuracy: 0.975\n",
      "Epoch: 11/25..  Training Loss: 0.007..  Test Loss: 0.078..  Test Accuracy: 0.977\n",
      "Epoch: 11/25..  Training Loss: 0.017..  Test Loss: 0.080..  Test Accuracy: 0.977\n",
      "Epoch: 11/25..  Training Loss: 0.031..  Test Loss: 0.091..  Test Accuracy: 0.975\n",
      "Epoch: 12/25..  Training Loss: 0.010..  Test Loss: 0.075..  Test Accuracy: 0.977\n",
      "Epoch: 12/25..  Training Loss: 0.021..  Test Loss: 0.090..  Test Accuracy: 0.975\n",
      "Epoch: 13/25..  Training Loss: 0.003..  Test Loss: 0.085..  Test Accuracy: 0.976\n",
      "Epoch: 13/25..  Training Loss: 0.014..  Test Loss: 0.080..  Test Accuracy: 0.977\n",
      "Epoch: 13/25..  Training Loss: 0.025..  Test Loss: 0.088..  Test Accuracy: 0.976\n",
      "Epoch: 14/25..  Training Loss: 0.007..  Test Loss: 0.083..  Test Accuracy: 0.978\n",
      "Epoch: 14/25..  Training Loss: 0.015..  Test Loss: 0.084..  Test Accuracy: 0.978\n",
      "Epoch: 15/25..  Training Loss: 0.000..  Test Loss: 0.097..  Test Accuracy: 0.975\n",
      "Epoch: 15/25..  Training Loss: 0.010..  Test Loss: 0.088..  Test Accuracy: 0.976\n",
      "Epoch: 15/25..  Training Loss: 0.019..  Test Loss: 0.089..  Test Accuracy: 0.976\n",
      "Epoch: 16/25..  Training Loss: 0.002..  Test Loss: 0.088..  Test Accuracy: 0.979\n",
      "Epoch: 16/25..  Training Loss: 0.010..  Test Loss: 0.088..  Test Accuracy: 0.978\n",
      "Epoch: 16/25..  Training Loss: 0.019..  Test Loss: 0.089..  Test Accuracy: 0.978\n",
      "Epoch: 17/25..  Training Loss: 0.005..  Test Loss: 0.085..  Test Accuracy: 0.979\n",
      "Epoch: 17/25..  Training Loss: 0.012..  Test Loss: 0.090..  Test Accuracy: 0.976\n",
      "Epoch: 18/25..  Training Loss: 0.001..  Test Loss: 0.089..  Test Accuracy: 0.979\n",
      "Epoch: 18/25..  Training Loss: 0.006..  Test Loss: 0.091..  Test Accuracy: 0.977\n",
      "Epoch: 18/25..  Training Loss: 0.013..  Test Loss: 0.091..  Test Accuracy: 0.979\n",
      "Epoch: 19/25..  Training Loss: 0.003..  Test Loss: 0.088..  Test Accuracy: 0.978\n",
      "Epoch: 19/25..  Training Loss: 0.010..  Test Loss: 0.090..  Test Accuracy: 0.977\n",
      "Epoch: 19/25..  Training Loss: 0.017..  Test Loss: 0.094..  Test Accuracy: 0.978\n",
      "Epoch: 20/25..  Training Loss: 0.005..  Test Loss: 0.087..  Test Accuracy: 0.980\n",
      "Epoch: 20/25..  Training Loss: 0.011..  Test Loss: 0.096..  Test Accuracy: 0.978\n",
      "Epoch: 21/25..  Training Loss: 0.002..  Test Loss: 0.098..  Test Accuracy: 0.977\n",
      "Epoch: 21/25..  Training Loss: 0.007..  Test Loss: 0.090..  Test Accuracy: 0.979\n",
      "Epoch: 21/25..  Training Loss: 0.012..  Test Loss: 0.100..  Test Accuracy: 0.978\n",
      "Epoch: 22/25..  Training Loss: 0.004..  Test Loss: 0.100..  Test Accuracy: 0.977\n",
      "Epoch: 22/25..  Training Loss: 0.009..  Test Loss: 0.090..  Test Accuracy: 0.979\n",
      "Epoch: 22/25..  Training Loss: 0.015..  Test Loss: 0.091..  Test Accuracy: 0.978\n",
      "Epoch: 23/25..  Training Loss: 0.004..  Test Loss: 0.094..  Test Accuracy: 0.979\n",
      "Epoch: 23/25..  Training Loss: 0.010..  Test Loss: 0.092..  Test Accuracy: 0.978\n",
      "Epoch: 24/25..  Training Loss: 0.002..  Test Loss: 0.102..  Test Accuracy: 0.976\n",
      "Epoch: 24/25..  Training Loss: 0.006..  Test Loss: 0.100..  Test Accuracy: 0.978\n",
      "Epoch: 24/25..  Training Loss: 0.011..  Test Loss: 0.099..  Test Accuracy: 0.977\n",
      "Epoch: 25/25..  Training Loss: 0.004..  Test Loss: 0.093..  Test Accuracy: 0.978\n",
      "Epoch: 25/25..  Training Loss: 0.009..  Test Loss: 0.097..  Test Accuracy: 0.979\n",
      "Epoch: 25/25..  Training Loss: 0.013..  Test Loss: 0.099..  Test Accuracy: 0.977\n"
     ]
    }
   ],
   "source": [
    "# Instantiate model 3\n",
    "model = Classifier3()\n",
    "\n",
    "# Define our loss function\n",
    "criterion = nn.NLLLoss()\n",
    "# Define the optimier\n",
    "optimizer = optim.Adam(model.parameters(), lr=0.0015)\n",
    "\n",
    "epochs = 25\n",
    "steps = 0\n",
    "print_every = 50\n",
    "train_losses, test_losses = [], []\n",
    "\n",
    "for e in range(epochs):\n",
    "    running_loss = 0\n",
    "    for images, labels in train_loader:\n",
    "        steps += 1\n",
    "        # Prevent accumulation of gradients\n",
    "        optimizer.zero_grad()\n",
    "        # Make predictions\n",
    "        log_ps = model(images.float())\n",
    "        loss = criterion(log_ps, labels)\n",
    "        #backprop\n",
    "        loss.backward()\n",
    "        optimizer.step()\n",
    "        \n",
    "        running_loss += loss.item()\n",
    "        if steps % print_every == 0:\n",
    "            test_loss = 0\n",
    "            accuracy = 0\n",
    "\n",
    "            # Turn off gradients for validation\n",
    "            with torch.no_grad():\n",
    "                model.eval()\n",
    "                for images, labels in test_loader:\n",
    "                    log_ps = model(images.float())\n",
    "                    test_loss += criterion(log_ps, labels)\n",
    "\n",
    "                    ps = torch.exp(log_ps)\n",
    "                    # Get our top predictions\n",
    "                    top_p, top_class = ps.topk(1, dim=1)\n",
    "                    equals = top_class == labels.view(*top_class.shape)\n",
    "                    accuracy += torch.mean(equals.type(torch.FloatTensor))\n",
    "                    \n",
    "            # Confusion matrix\n",
    "            #conf_mat=tf.math.confusion_matrix(top_class.numpy(),labels.numpy())\n",
    "            #confusion_matrix[top_class.numpy(),labels.numpy()] += 1\n",
    "            #print(conf_mat)\n",
    "            #        _, preds = torch.max(log_ps, 1)\n",
    "            #        for t, p in zip(classes.view(-1), preds.view(-1)):\n",
    "            #            confusion_matrix[t.long(), p.long()] += 1\n",
    "\n",
    "             #       print(confusion_matrix)\n",
    "        \n",
    "            model.train()\n",
    "\n",
    "            train_losses.append(running_loss/len(train_loader))\n",
    "            test_losses.append(test_loss/len(test_loader))\n",
    "\n",
    "            print(\"Epoch: {}/{}.. \".format(e+1, epochs),\n",
    "                  \"Training Loss: {:.3f}.. \".format(train_losses[-1]),\n",
    "                  \"Test Loss: {:.3f}.. \".format(test_losses[-1]),\n",
    "                  \"Test Accuracy: {:.3f}\".format(accuracy/len(test_loader)))"
   ]
  },
  {
   "cell_type": "markdown",
   "metadata": {},
   "source": [
    "We observe that the best performing neural networks are models 2 and 3 with accuracy 97.9% each. However, we'll choose model 3 since it has only 1 hidden layer with 512 neurons which makes the training and testing computation less compared to model 2 with 2 hidden layers."
   ]
  },
  {
   "cell_type": "code",
   "execution_count": 44,
   "metadata": {},
   "outputs": [
    {
     "name": "stdout",
     "output_type": "stream",
     "text": [
      "Confusion matrix:\n",
      "[[802   0   1   0   0   4   5   1   1   2]\n",
      " [  0 899   3   1   1   1   1   1   2   0]\n",
      " [  1   2 821   5   8   0   0   4   3   2]\n",
      " [  1   1   3 902   0  11   0   1   8  10]\n",
      " [  1   0   0   0 819   1   4   1   0  13]\n",
      " [  0   0   0   4   1 687   3   1   1   5]\n",
      " [  2   0   0   0   0   6 777   0   0   0]\n",
      " [  0   1   6   2   2   1   0 868   1  12]\n",
      " [  0   3   4   4   3   6   1   1 810   3]\n",
      " [  1   0   0   2   5   0   0   4   1 825]]\n",
      "F1 score: 0.977381\n",
      "Accuracy score: 0.977381\n"
     ]
    }
   ],
   "source": [
    "from sklearn.metrics import confusion_matrix\n",
    "from sklearn.metrics import f1_score\n",
    "from sklearn.metrics import accuracy_score\n",
    "\n",
    "def test_label_predictions(model, test_loader):\n",
    "    model.eval()\n",
    "    actuals = []\n",
    "    predictions = []\n",
    "    with torch.no_grad():\n",
    "        for data, target in test_loader:\n",
    "            #data, target = data.to(device), target.to(device)\n",
    "            output = model(data.float())\n",
    "            prediction = output.argmax(dim=1, keepdim=True)\n",
    "            actuals.extend(target.view_as(prediction))\n",
    "            predictions.extend(prediction)\n",
    "    return [i.item() for i in actuals], [i.item() for i in predictions]\n",
    "\n",
    "actuals, predictions = test_label_predictions(model, test_loader)\n",
    "print('Confusion matrix:')\n",
    "print(confusion_matrix(actuals, predictions))\n",
    "print('F1 score: %f' % f1_score(actuals, predictions, average='micro'))\n",
    "print('Accuracy score: %f' % accuracy_score(actuals, predictions))"
   ]
  },
  {
   "cell_type": "code",
   "execution_count": 66,
   "metadata": {},
   "outputs": [
    {
     "name": "stdout",
     "output_type": "stream",
     "text": [
      "Class Accuracy of digit 0 is 0.9828431372549019\n",
      "Class Accuracy of digit 1 is 0.988998899889989\n",
      "Class Accuracy of digit 2 is 0.9704491725768322\n",
      "Class Accuracy of digit 3 is 0.9626467449306296\n",
      "Class Accuracy of digit 4 is 0.9761620977353993\n",
      "Class Accuracy of digit 5 is 0.9786324786324786\n",
      "Class Accuracy of digit 6 is 0.9898089171974522\n",
      "Class Accuracy of digit 7 is 0.9720044792833147\n",
      "Class Accuracy of digit 8 is 0.9700598802395209\n",
      "Class Accuracy of digit 9 is 0.9844868735083532\n"
     ]
    }
   ],
   "source": [
    "confmat=confusion_matrix(actuals, predictions)\n",
    "classacc=list(range(0, 10))\n",
    "for i in range(0,10):\n",
    "    classacc[i] = confmat[i,i]/sum(confmat[i,:])\n",
    "    print(f'Class Accuracy of digit {i} is {classacc[i]}')"
   ]
  },
  {
   "cell_type": "markdown",
   "metadata": {},
   "source": [
    "We observe that digit 3 has the least accuracy with 96.26% where it was misclassified as digit 5 and 9 for 11 and 10 times respectively."
   ]
  },
  {
   "cell_type": "markdown",
   "metadata": {},
   "source": [
    "Digit 6 has the best accuracy with 98.98% out of all digits."
   ]
  }
 ],
 "metadata": {
  "kernelspec": {
   "display_name": "Python 3",
   "language": "python",
   "name": "python3"
  },
  "language_info": {
   "codemirror_mode": {
    "name": "ipython",
    "version": 3
   },
   "file_extension": ".py",
   "mimetype": "text/x-python",
   "name": "python",
   "nbconvert_exporter": "python",
   "pygments_lexer": "ipython3",
   "version": "3.7.3"
  }
 },
 "nbformat": 4,
 "nbformat_minor": 4
}
